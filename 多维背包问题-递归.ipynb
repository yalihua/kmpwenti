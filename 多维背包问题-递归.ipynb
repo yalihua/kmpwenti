{
 "cells": [
  {
   "cell_type": "code",
   "execution_count": 3,
   "metadata": {},
   "outputs": [
    {
     "name": "stdout",
     "output_type": "stream",
     "text": [
      "请输入n和m：6 10\n",
      "输入物品价值：100 600 1200 2400 500 2000\n",
      "请输入约束条件:\n",
      "8 12 13 64 22 41\n",
      "8 12 13 75 22 41\n",
      "3 6 4 18 6 4\n",
      "5 10 8 32 6 12\n",
      "5 13 8 42 6 20\n",
      "5 13 8 48 6 20\n",
      "0 0 0 0 8 0\n",
      "3 0 4 0 8 0\n",
      "3 2 4 0 8 4\n",
      "3 2 4 8 8 4\n",
      "输入10个属性的约束条件：80 96 20 36 44 48 10 18 22 24\n"
     ]
    }
   ],
   "source": [
    "#输入n，m值\n",
    "n,m=map(int, input(\"请输入n和m：\").split())\n",
    "#输入物品价值\n",
    "value=list(map(float, input(\"输入物品价值：\").split()))\n",
    "#输入约束条件\n",
    "print('请输入约束条件:')\n",
    "s=[]\n",
    "#使用for循环输入约束条件\n",
    "for k in range(m):\n",
    "    p=list(map(int, input().split()))\n",
    "    s.append(p)\n",
    "#输入约束值\n",
    "t=list(map(int, input(\"输入约束条件的约束值：\"%m).split()))"
   ]
  },
  {
   "cell_type": "code",
   "execution_count": 17,
   "metadata": {},
   "outputs": [
    {
     "name": "stdout",
     "output_type": "stream",
     "text": [
      "最大价值为： 3800.0\n"
     ]
    }
   ],
   "source": [
    "#初始化最大价值\n",
    "value_max=0\n",
    "#初始化临时价值\n",
    "v=0\n",
    "#定义递归函数bacltrack\n",
    "def bacltrack(i):\n",
    "    #声明全局变量\n",
    "    global value_max,v,n,m\n",
    "    #标记\n",
    "    j=1\n",
    "    #判断是否到达叶子节点\n",
    "    if i>=n:\n",
    "        #判断当前价值是否大于最大价值\n",
    "        if v>value_max:\n",
    "            value_max=v\n",
    "    else:\n",
    "        #使用for循环判断是否能将当前物品放入\n",
    "        for r in range(m):\n",
    "            c=t[r]-s[r][i]\n",
    "            if c<0:\n",
    "                j=0\n",
    "        #如果能放入\n",
    "        if j==1:\n",
    "            #约束减去当前物品约束\n",
    "            for g in range(m):\n",
    "                t[g]=t[g]-s[g][i]\n",
    "            #加上当前物品价值\n",
    "            v=v+value[i]\n",
    "            #分支\n",
    "            bacltrack(i+1)\n",
    "            #到达叶子节点，进行回溯\n",
    "            for h in range(m):\n",
    "                t[h]=t[h]+s[h][i]\n",
    "            v=v-value[i]\n",
    "        #如果不能放入，开支\n",
    "        bacltrack(i+1)\n",
    "#开始调用bacltrack函数\n",
    "bacltrack(0)\n",
    "print(\"最大价值为：\",value_max)"
   ]
  },
  {
   "cell_type": "code",
   "execution_count": null,
   "metadata": {},
   "outputs": [],
   "source": []
  }
 ],
 "metadata": {
  "kernelspec": {
   "display_name": "Python 3",
   "language": "python",
   "name": "python3"
  },
  "language_info": {
   "codemirror_mode": {
    "name": "ipython",
    "version": 3
   },
   "file_extension": ".py",
   "mimetype": "text/x-python",
   "name": "python",
   "nbconvert_exporter": "python",
   "pygments_lexer": "ipython3",
   "version": "3.7.0"
  }
 },
 "nbformat": 4,
 "nbformat_minor": 2
}
